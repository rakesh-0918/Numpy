{
 "cells": [
  {
   "cell_type": "markdown",
   "id": "be5c4bf5",
   "metadata": {},
   "source": [
    "# Comparison Time  Between python list and Numpy arrays"
   ]
  },
  {
   "cell_type": "code",
   "execution_count": 1,
   "id": "9d944a1f",
   "metadata": {},
   "outputs": [],
   "source": [
    "import numpy as np"
   ]
  },
  {
   "cell_type": "markdown",
   "id": "e95381e4",
   "metadata": {},
   "source": [
    "Quick comparison of matrix addition done of Vectors with a million elements each using python list and numpy arrays"
   ]
  },
  {
   "cell_type": "code",
   "execution_count": 3,
   "id": "725005ca",
   "metadata": {},
   "outputs": [],
   "source": [
    "#python lists\n",
    "py_list1=list(range(1000000))\n",
    "py_list2=list(range(1000000,2000000))"
   ]
  },
  {
   "cell_type": "code",
   "execution_count": 4,
   "id": "0b1d24bb",
   "metadata": {},
   "outputs": [],
   "source": [
    "## numpy arrays\n",
    "arr1=np.array(py_list1)\n",
    "arr2=np.array(py_list2)"
   ]
  },
  {
   "cell_type": "code",
   "execution_count": 6,
   "id": "07d8274b",
   "metadata": {},
   "outputs": [
    {
     "name": "stdout",
     "output_type": "stream",
     "text": [
      "CPU times: total: 297 ms\n",
      "Wall time: 296 ms\n"
     ]
    },
    {
     "data": {
      "text/plain": [
       "1999999000000"
      ]
     },
     "execution_count": 6,
     "metadata": {},
     "output_type": "execute_result"
    }
   ],
   "source": [
    "%%time\n",
    "res=0\n",
    "for x,y in zip(py_list1,py_list2):\n",
    "    res+=x+y\n",
    "res    "
   ]
  },
  {
   "cell_type": "code",
   "execution_count": 8,
   "id": "2d00a22e",
   "metadata": {},
   "outputs": [
    {
     "name": "stdout",
     "output_type": "stream",
     "text": [
      "CPU times: total: 15.6 ms\n",
      "Wall time: 7.54 ms\n"
     ]
    },
    {
     "data": {
      "text/plain": [
       "np.int64(1999999000000)"
      ]
     },
     "execution_count": 8,
     "metadata": {},
     "output_type": "execute_result"
    }
   ],
   "source": [
    "%%time\n",
    "(arr1+arr2).sum()"
   ]
  },
  {
   "cell_type": "markdown",
   "id": "2a712588",
   "metadata": {},
   "source": [
    "%%time is used to calculate the total time to compute the problem Walltime=endtime-start time .\n",
    "BY comparing each time numpy arrays are much faster compare to python lists"
   ]
  },
  {
   "cell_type": "code",
   "execution_count": null,
   "id": "e8fb662c",
   "metadata": {},
   "outputs": [],
   "source": []
  }
 ],
 "metadata": {
  "kernelspec": {
   "display_name": "base",
   "language": "python",
   "name": "python3"
  },
  "language_info": {
   "codemirror_mode": {
    "name": "ipython",
    "version": 3
   },
   "file_extension": ".py",
   "mimetype": "text/x-python",
   "name": "python",
   "nbconvert_exporter": "python",
   "pygments_lexer": "ipython3",
   "version": "3.13.5"
  }
 },
 "nbformat": 4,
 "nbformat_minor": 5
}
