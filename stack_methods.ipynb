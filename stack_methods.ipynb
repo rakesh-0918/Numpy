{
 "cells": [
  {
   "cell_type": "code",
   "execution_count": 1,
   "id": "0ab4dad4",
   "metadata": {},
   "outputs": [],
   "source": [
    "import numpy as np"
   ]
  },
  {
   "cell_type": "code",
   "execution_count": 16,
   "id": "45bcf383",
   "metadata": {},
   "outputs": [],
   "source": [
    "# creating 1D array\n",
    "array1=np.array([1,2,3])\n",
    "array2=np.array([4,5,6])"
   ]
  },
  {
   "cell_type": "code",
   "execution_count": 17,
   "id": "23b3b94d",
   "metadata": {},
   "outputs": [
    {
     "data": {
      "text/plain": [
       "array([[1, 2, 3],\n",
       "       [4, 5, 6]])"
      ]
     },
     "execution_count": 17,
     "metadata": {},
     "output_type": "execute_result"
    }
   ],
   "source": [
    "np.stack((array1,array2))"
   ]
  },
  {
   "cell_type": "markdown",
   "id": "c5a1eceb",
   "metadata": {},
   "source": [
    "stack() method is used to joining array on new axis .along rows default axis=0 \n"
   ]
  },
  {
   "cell_type": "code",
   "execution_count": 18,
   "id": "4da69336",
   "metadata": {},
   "outputs": [],
   "source": [
    "# creating 1D array\n",
    "array1=np.array([1,2,3])\n",
    "array2=np.array([4,5,6])\n",
    "array3=np.array([7,8,9])"
   ]
  },
  {
   "cell_type": "code",
   "execution_count": 19,
   "id": "fce8cccc",
   "metadata": {},
   "outputs": [
    {
     "data": {
      "text/plain": [
       "(2, 3)"
      ]
     },
     "execution_count": 19,
     "metadata": {},
     "output_type": "execute_result"
    }
   ],
   "source": [
    "np.stack((array1,array2)).shape # for 2 arrays "
   ]
  },
  {
   "cell_type": "code",
   "execution_count": 6,
   "id": "33a11131",
   "metadata": {},
   "outputs": [
    {
     "data": {
      "text/plain": [
       "array([[1, 2, 3],\n",
       "       [4, 5, 6],\n",
       "       [7, 8, 9]])"
      ]
     },
     "execution_count": 6,
     "metadata": {},
     "output_type": "execute_result"
    }
   ],
   "source": [
    "np.stack((array1,array2,array3))"
   ]
  },
  {
   "cell_type": "code",
   "execution_count": 7,
   "id": "440f89df",
   "metadata": {},
   "outputs": [
    {
     "data": {
      "text/plain": [
       "(3, 3)"
      ]
     },
     "execution_count": 7,
     "metadata": {},
     "output_type": "execute_result"
    }
   ],
   "source": [
    "np.stack((array1,array2,array3)).shape # for 3 arrays "
   ]
  },
  {
   "cell_type": "markdown",
   "id": "bc2a27f1",
   "metadata": {},
   "source": [
    "shape for 1-d array joining arrays using stack on axis=0 is (no.of arrays),(no.of columns) above 3 arrays are presnt in each array 3 columns are present .the resultant shape is (3,3)"
   ]
  },
  {
   "cell_type": "code",
   "execution_count": 8,
   "id": "f07d0c29",
   "metadata": {},
   "outputs": [
    {
     "data": {
      "text/plain": [
       "array([[1, 4, 7],\n",
       "       [2, 5, 8],\n",
       "       [3, 6, 9]])"
      ]
     },
     "execution_count": 8,
     "metadata": {},
     "output_type": "execute_result"
    }
   ],
   "source": [
    "np.stack((array1,array2,array3),axis=1)\n",
    "\n"
   ]
  },
  {
   "cell_type": "code",
   "execution_count": 9,
   "id": "3cfced08",
   "metadata": {},
   "outputs": [
    {
     "data": {
      "text/plain": [
       "(3, 3)"
      ]
     },
     "execution_count": 9,
     "metadata": {},
     "output_type": "execute_result"
    }
   ],
   "source": [
    "np.stack((array1,array2,array3),axis=1).shape"
   ]
  },
  {
   "cell_type": "code",
   "execution_count": 20,
   "id": "0fb19408",
   "metadata": {},
   "outputs": [
    {
     "ename": "AxisError",
     "evalue": "axis 2 is out of bounds for array of dimension 2",
     "output_type": "error",
     "traceback": [
      "\u001b[1;31m---------------------------------------------------------------------------\u001b[0m",
      "\u001b[1;31mAxisError\u001b[0m                                 Traceback (most recent call last)",
      "Cell \u001b[1;32mIn[20], line 1\u001b[0m\n\u001b[1;32m----> 1\u001b[0m np\u001b[38;5;241m.\u001b[39mstack((array1,array2,array3),axis\u001b[38;5;241m=\u001b[39m\u001b[38;5;241m2\u001b[39m)\n",
      "File \u001b[1;32mc:\\Users\\DELL\\anaconda3\\Lib\\site-packages\\numpy\\_core\\shape_base.py:460\u001b[0m, in \u001b[0;36mstack\u001b[1;34m(arrays, axis, out, dtype, casting)\u001b[0m\n\u001b[0;32m    457\u001b[0m     \u001b[38;5;28;01mraise\u001b[39;00m \u001b[38;5;167;01mValueError\u001b[39;00m(\u001b[38;5;124m'\u001b[39m\u001b[38;5;124mall input arrays must have the same shape\u001b[39m\u001b[38;5;124m'\u001b[39m)\n\u001b[0;32m    459\u001b[0m result_ndim \u001b[38;5;241m=\u001b[39m arrays[\u001b[38;5;241m0\u001b[39m]\u001b[38;5;241m.\u001b[39mndim \u001b[38;5;241m+\u001b[39m \u001b[38;5;241m1\u001b[39m\n\u001b[1;32m--> 460\u001b[0m axis \u001b[38;5;241m=\u001b[39m normalize_axis_index(axis, result_ndim)\n\u001b[0;32m    462\u001b[0m sl \u001b[38;5;241m=\u001b[39m (\u001b[38;5;28mslice\u001b[39m(\u001b[38;5;28;01mNone\u001b[39;00m),) \u001b[38;5;241m*\u001b[39m axis \u001b[38;5;241m+\u001b[39m (_nx\u001b[38;5;241m.\u001b[39mnewaxis,)\n\u001b[0;32m    463\u001b[0m expanded_arrays \u001b[38;5;241m=\u001b[39m [arr[sl] \u001b[38;5;28;01mfor\u001b[39;00m arr \u001b[38;5;129;01min\u001b[39;00m arrays]\n",
      "\u001b[1;31mAxisError\u001b[0m: axis 2 is out of bounds for array of dimension 2"
     ]
    }
   ],
   "source": [
    "np.stack((array1,array2,array3),axis=2)"
   ]
  },
  {
   "cell_type": "markdown",
   "id": "6d8a5738",
   "metadata": {},
   "source": [
    "for 1 d array axis=0 is present \n",
    "\n",
    "2d array is presnt after adding new dimension before \n",
    "\n",
    "3d array is not present"
   ]
  },
  {
   "cell_type": "code",
   "execution_count": 21,
   "id": "2ce7ead1",
   "metadata": {},
   "outputs": [],
   "source": [
    "#create 2d array\n",
    "array4=np.array([[1,2],[3,4]])\n",
    "array5=np.array([[5,6],[7,8]])"
   ]
  },
  {
   "cell_type": "code",
   "execution_count": null,
   "id": "979ab21e",
   "metadata": {},
   "outputs": [],
   "source": [
    "np.stack((array4,array5))"
   ]
  },
  {
   "cell_type": "code",
   "execution_count": null,
   "id": "b4cb5479",
   "metadata": {},
   "outputs": [],
   "source": [
    "np.stack((array4,array5)).shape"
   ]
  },
  {
   "cell_type": "markdown",
   "id": "e23c5efc",
   "metadata": {},
   "source": [
    "(2,2) are shapes of array 5 and array4 then resultant shape of stack along axis=0 is (no.arrays,rows,columns) (2,2,2) no.of arrays is 2"
   ]
  },
  {
   "cell_type": "code",
   "execution_count": 14,
   "id": "11a45bc0",
   "metadata": {},
   "outputs": [],
   "source": [
    "#create 2d array\n",
    "array4=np.array([[1,2],[3,4]])\n",
    "array5=np.array([[5,6],[7,8]])\n",
    "array6=np.array([[9,10],[11,12]])"
   ]
  },
  {
   "cell_type": "code",
   "execution_count": null,
   "id": "c876aef0",
   "metadata": {},
   "outputs": [],
   "source": [
    "np.stack((array4,array5,array6))"
   ]
  },
  {
   "cell_type": "code",
   "execution_count": null,
   "id": "47baa1a7",
   "metadata": {},
   "outputs": [],
   "source": [
    "np.stack((array4,array5,array6)).shape # here arrays are 3 then we conclude shape is (no.of arrays,shape of arras)"
   ]
  },
  {
   "cell_type": "code",
   "execution_count": null,
   "id": "9ee5d786",
   "metadata": {},
   "outputs": [],
   "source": [
    "np.stack((array4,array5,array6),axis=1)"
   ]
  },
  {
   "cell_type": "code",
   "execution_count": null,
   "id": "ea8840a0",
   "metadata": {},
   "outputs": [],
   "source": [
    "np.stack((array4,array5,array6),axis=1).shape"
   ]
  },
  {
   "cell_type": "markdown",
   "id": "2a564ca0",
   "metadata": {},
   "source": [
    "shape of array4,5,6 is 2,2 than joining of 3 arrays using stack method the resultant matrix shape is \n",
    "(rows,no.of arrays,no.of colums) (2,3,2)"
   ]
  },
  {
   "cell_type": "code",
   "execution_count": null,
   "id": "ae32ec9f",
   "metadata": {},
   "outputs": [],
   "source": [
    "np.stack((array4,array5,array6),axis=2)"
   ]
  },
  {
   "cell_type": "code",
   "execution_count": 13,
   "id": "d23c69b4",
   "metadata": {},
   "outputs": [
    {
     "ename": "NameError",
     "evalue": "name 'array4' is not defined",
     "output_type": "error",
     "traceback": [
      "\u001b[1;31m---------------------------------------------------------------------------\u001b[0m",
      "\u001b[1;31mNameError\u001b[0m                                 Traceback (most recent call last)",
      "Cell \u001b[1;32mIn[13], line 1\u001b[0m\n\u001b[1;32m----> 1\u001b[0m np\u001b[38;5;241m.\u001b[39mstack((array4,array5,array6),axis\u001b[38;5;241m=\u001b[39m\u001b[38;5;241m2\u001b[39m)\u001b[38;5;241m.\u001b[39mshape\n",
      "\u001b[1;31mNameError\u001b[0m: name 'array4' is not defined"
     ]
    }
   ],
   "source": [
    "np.stack((array4,array5,array6),axis=2).shape"
   ]
  },
  {
   "cell_type": "markdown",
   "id": "ff66df76",
   "metadata": {},
   "source": [
    "shape of array4,array5,array6 is 2,2 joing along axis=2 is no.of rows,no.columns,no.of arrays is (2,2,3)"
   ]
  },
  {
   "cell_type": "code",
   "execution_count": 22,
   "id": "3d2f6ec5",
   "metadata": {},
   "outputs": [],
   "source": [
    "#create 3D arrays\n",
    "array7=[[[1,2]],[[3,4]]]\n",
    "array8=[[[5,6]],[[7,8]]]\n",
    "array9=[[[9,10]],[[11,12]]]"
   ]
  },
  {
   "cell_type": "code",
   "execution_count": 23,
   "id": "0c5877c9",
   "metadata": {},
   "outputs": [
    {
     "data": {
      "text/plain": [
       "array([[[[ 1,  2]],\n",
       "\n",
       "        [[ 3,  4]]],\n",
       "\n",
       "\n",
       "       [[[ 5,  6]],\n",
       "\n",
       "        [[ 7,  8]]],\n",
       "\n",
       "\n",
       "       [[[ 9, 10]],\n",
       "\n",
       "        [[11, 12]]]])"
      ]
     },
     "execution_count": 23,
     "metadata": {},
     "output_type": "execute_result"
    }
   ],
   "source": [
    "np.stack((array7,array8,array9))"
   ]
  },
  {
   "cell_type": "code",
   "execution_count": 24,
   "id": "34113265",
   "metadata": {},
   "outputs": [
    {
     "data": {
      "text/plain": [
       "(3, 2, 1, 2)"
      ]
     },
     "execution_count": 24,
     "metadata": {},
     "output_type": "execute_result"
    }
   ],
   "source": [
    "np.stack((array7,array8,array9)).shape"
   ]
  },
  {
   "cell_type": "code",
   "execution_count": 25,
   "id": "33bb283d",
   "metadata": {},
   "outputs": [
    {
     "data": {
      "text/plain": [
       "array([[[[ 1,  2]],\n",
       "\n",
       "        [[ 5,  6]],\n",
       "\n",
       "        [[ 9, 10]]],\n",
       "\n",
       "\n",
       "       [[[ 3,  4]],\n",
       "\n",
       "        [[ 7,  8]],\n",
       "\n",
       "        [[11, 12]]]])"
      ]
     },
     "execution_count": 25,
     "metadata": {},
     "output_type": "execute_result"
    }
   ],
   "source": [
    "np.stack((array7,array8,array9),axis=1)"
   ]
  },
  {
   "cell_type": "code",
   "execution_count": 26,
   "id": "74f81b96",
   "metadata": {},
   "outputs": [
    {
     "data": {
      "text/plain": [
       "(2, 3, 1, 2)"
      ]
     },
     "execution_count": 26,
     "metadata": {},
     "output_type": "execute_result"
    }
   ],
   "source": [
    "np.stack((array7,array8,array9),axis=1).shape"
   ]
  },
  {
   "cell_type": "code",
   "execution_count": 33,
   "id": "b508244b",
   "metadata": {},
   "outputs": [
    {
     "data": {
      "text/plain": [
       "array([[[[ 1,  2],\n",
       "         [ 5,  6],\n",
       "         [ 9, 10]]],\n",
       "\n",
       "\n",
       "       [[[ 3,  4],\n",
       "         [ 7,  8],\n",
       "         [11, 12]]]])"
      ]
     },
     "execution_count": 33,
     "metadata": {},
     "output_type": "execute_result"
    }
   ],
   "source": [
    "np.stack((array7,array8,array9),axis=2)"
   ]
  },
  {
   "cell_type": "code",
   "execution_count": 31,
   "id": "4de340ce",
   "metadata": {},
   "outputs": [
    {
     "data": {
      "text/plain": [
       "(2, 1, 3, 2)"
      ]
     },
     "execution_count": 31,
     "metadata": {},
     "output_type": "execute_result"
    }
   ],
   "source": [
    "np.stack((array7,array8,array9),axis=2).shape"
   ]
  },
  {
   "cell_type": "code",
   "execution_count": 28,
   "id": "ce7a29b0",
   "metadata": {},
   "outputs": [
    {
     "data": {
      "text/plain": [
       "array([[[[ 1,  5,  9],\n",
       "         [ 2,  6, 10]]],\n",
       "\n",
       "\n",
       "       [[[ 3,  7, 11],\n",
       "         [ 4,  8, 12]]]])"
      ]
     },
     "execution_count": 28,
     "metadata": {},
     "output_type": "execute_result"
    }
   ],
   "source": [
    "np.stack((array7,array8,array9),axis=3)"
   ]
  },
  {
   "cell_type": "code",
   "execution_count": 29,
   "id": "9112bcdc",
   "metadata": {},
   "outputs": [
    {
     "data": {
      "text/plain": [
       "(2, 1, 2, 3)"
      ]
     },
     "execution_count": 29,
     "metadata": {},
     "output_type": "execute_result"
    }
   ],
   "source": [
    "np.stack((array7,array8,array9),axis=3).shape"
   ]
  },
  {
   "cell_type": "code",
   "execution_count": null,
   "id": "b07066be",
   "metadata": {},
   "outputs": [],
   "source": []
  }
 ],
 "metadata": {
  "kernelspec": {
   "display_name": "base",
   "language": "python",
   "name": "python3"
  },
  "language_info": {
   "codemirror_mode": {
    "name": "ipython",
    "version": 3
   },
   "file_extension": ".py",
   "mimetype": "text/x-python",
   "name": "python",
   "nbconvert_exporter": "python",
   "pygments_lexer": "ipython3",
   "version": "3.13.5"
  }
 },
 "nbformat": 4,
 "nbformat_minor": 5
}
