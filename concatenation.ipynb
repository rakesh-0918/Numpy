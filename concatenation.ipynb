{
 "cells": [
  {
   "cell_type": "code",
   "execution_count": 45,
   "id": "4999390e",
   "metadata": {},
   "outputs": [],
   "source": [
    "import numpy as np"
   ]
  },
  {
   "cell_type": "markdown",
   "id": "df85e9ef",
   "metadata": {},
   "source": [
    "Concatenation means joining two arrays as a single array.It perform on existing axis does not create new axis."
   ]
  },
  {
   "cell_type": "code",
   "execution_count": 46,
   "id": "2bbe31db",
   "metadata": {},
   "outputs": [],
   "source": [
    "# create 1 d array\n",
    "array1=np.array([1,2,3])\n",
    "array2=np.array([4,5,6])"
   ]
  },
  {
   "cell_type": "code",
   "execution_count": 47,
   "id": "b7ba34d2",
   "metadata": {},
   "outputs": [
    {
     "data": {
      "text/plain": [
       "array([1, 2, 3, 4, 5, 6])"
      ]
     },
     "execution_count": 47,
     "metadata": {},
     "output_type": "execute_result"
    }
   ],
   "source": [
    "np.concatenate((array1,array2)) # it merge array1 and array2 into single array"
   ]
  },
  {
   "cell_type": "markdown",
   "id": "cb211c2d",
   "metadata": {},
   "source": [
    "axis=0 means the merging along rows where no.columns must be match\n",
    "axis= 1 means the merging along columns where no.of rows must be match "
   ]
  },
  {
   "cell_type": "code",
   "execution_count": 48,
   "id": "490984a9",
   "metadata": {},
   "outputs": [
    {
     "ename": "AxisError",
     "evalue": "axis 1 is out of bounds for array of dimension 1",
     "output_type": "error",
     "traceback": [
      "\u001b[1;31m---------------------------------------------------------------------------\u001b[0m",
      "\u001b[1;31mAxisError\u001b[0m                                 Traceback (most recent call last)",
      "Cell \u001b[1;32mIn[48], line 1\u001b[0m\n\u001b[1;32m----> 1\u001b[0m np\u001b[38;5;241m.\u001b[39mconcatenate((array1,array2),axis\u001b[38;5;241m=\u001b[39m\u001b[38;5;241m1\u001b[39m)\n",
      "\u001b[1;31mAxisError\u001b[0m: axis 1 is out of bounds for array of dimension 1"
     ]
    }
   ],
   "source": [
    "np.concatenate((array1,array2),axis=1)"
   ]
  },
  {
   "cell_type": "markdown",
   "id": "7f38a837",
   "metadata": {},
   "source": [
    "for 1d arrays axis=1 not present only axis=0 present thats why it produce axis error"
   ]
  },
  {
   "cell_type": "code",
   "execution_count": null,
   "id": "748e5d50",
   "metadata": {},
   "outputs": [
    {
     "data": {
      "text/plain": [
       "(6,)"
      ]
     },
     "execution_count": 5,
     "metadata": {},
     "output_type": "execute_result"
    }
   ],
   "source": [
    "np.concatenate((array1,array2)).shape # rows of array1+rows of array2 =3+3=6"
   ]
  },
  {
   "cell_type": "code",
   "execution_count": null,
   "id": "64bf35a1",
   "metadata": {},
   "outputs": [
    {
     "ename": "AxisError",
     "evalue": "axis 2 is out of bounds for array of dimension 1",
     "output_type": "error",
     "traceback": [
      "\u001b[1;31m---------------------------------------------------------------------------\u001b[0m",
      "\u001b[1;31mAxisError\u001b[0m                                 Traceback (most recent call last)",
      "Cell \u001b[1;32mIn[32], line 1\u001b[0m\n\u001b[1;32m----> 1\u001b[0m np\u001b[38;5;241m.\u001b[39mconcatenate((array1,array2),axis\u001b[38;5;241m=\u001b[39m\u001b[38;5;241m2\u001b[39m)\n",
      "\u001b[1;31mAxisError\u001b[0m: axis 2 is out of bounds for array of dimension 1"
     ]
    }
   ],
   "source": [
    "np.concatenate((array1,array2),axis=2)"
   ]
  },
  {
   "cell_type": "code",
   "execution_count": null,
   "id": "4879fd2d",
   "metadata": {},
   "outputs": [],
   "source": [
    "# create 2D array\n",
    "array3=np.array([[1,2],[3,4]])\n",
    "array4=np.array([[5,6],[7,8]])"
   ]
  },
  {
   "cell_type": "code",
   "execution_count": null,
   "id": "c125e7ff",
   "metadata": {},
   "outputs": [
    {
     "data": {
      "text/plain": [
       "((2, 2), (2, 2))"
      ]
     },
     "execution_count": 18,
     "metadata": {},
     "output_type": "execute_result"
    }
   ],
   "source": [
    "array3.shape,array4.shape"
   ]
  },
  {
   "cell_type": "code",
   "execution_count": null,
   "id": "21314569",
   "metadata": {},
   "outputs": [
    {
     "data": {
      "text/plain": [
       "array([[1, 2],\n",
       "       [3, 4],\n",
       "       [5, 6],\n",
       "       [7, 8]])"
      ]
     },
     "execution_count": 19,
     "metadata": {},
     "output_type": "execute_result"
    }
   ],
   "source": [
    "np.concatenate((array3,array4)) # default axis=0 means row wise"
   ]
  },
  {
   "cell_type": "code",
   "execution_count": null,
   "id": "ce1d8c48",
   "metadata": {},
   "outputs": [
    {
     "data": {
      "text/plain": [
       "(4, 2)"
      ]
     },
     "execution_count": 20,
     "metadata": {},
     "output_type": "execute_result"
    }
   ],
   "source": [
    "np.concatenate((array3,array4)).shape "
   ]
  },
  {
   "cell_type": "markdown",
   "id": "8d87f939",
   "metadata": {},
   "source": [
    " (2,2),(2,2) shape of array3 and array 4 than resultant is row1+row2,column is 2+2,2=4,2"
   ]
  },
  {
   "cell_type": "code",
   "execution_count": null,
   "id": "5d4047c2",
   "metadata": {},
   "outputs": [
    {
     "data": {
      "text/plain": [
       "array([[1, 2, 5, 6],\n",
       "       [3, 4, 7, 8]])"
      ]
     },
     "execution_count": 21,
     "metadata": {},
     "output_type": "execute_result"
    }
   ],
   "source": [
    "np.concatenate((array3,array4),axis=1) "
   ]
  },
  {
   "cell_type": "code",
   "execution_count": null,
   "id": "5681c42c",
   "metadata": {},
   "outputs": [
    {
     "data": {
      "text/plain": [
       "(2, 4)"
      ]
     },
     "execution_count": 22,
     "metadata": {},
     "output_type": "execute_result"
    }
   ],
   "source": [
    "np.concatenate((array3,array4),axis=1).shape "
   ]
  },
  {
   "cell_type": "markdown",
   "id": "c6f93998",
   "metadata": {},
   "source": [
    "(2,2) and (2,2) shape of array3 and array4 when you concatenate along axis=1 the resultant is rows,col1+col2 =2,2+2=(4,2 ) which is rows,2n"
   ]
  },
  {
   "cell_type": "code",
   "execution_count": 51,
   "id": "b97dfd6c",
   "metadata": {},
   "outputs": [
    {
     "ename": "AxisError",
     "evalue": "axis 2 is out of bounds for array of dimension 2",
     "output_type": "error",
     "traceback": [
      "\u001b[1;31m---------------------------------------------------------------------------\u001b[0m",
      "\u001b[1;31mAxisError\u001b[0m                                 Traceback (most recent call last)",
      "Cell \u001b[1;32mIn[51], line 1\u001b[0m\n\u001b[1;32m----> 1\u001b[0m np\u001b[38;5;241m.\u001b[39mconcatenate((array3,array4),axis\u001b[38;5;241m=\u001b[39m\u001b[38;5;241m2\u001b[39m)\n",
      "\u001b[1;31mAxisError\u001b[0m: axis 2 is out of bounds for array of dimension 2"
     ]
    }
   ],
   "source": [
    "np.concatenate((array3,array4),axis=2)"
   ]
  },
  {
   "cell_type": "markdown",
   "id": "9b34d82f",
   "metadata": {},
   "source": [
    "axis=0 → the first dimension (size a)\n",
    "\n",
    "axis=1 → the second dimension (size b)\n",
    "\n",
    "axis=2 → the third dimension (size c)\n",
    "\n",
    "for 1d array axis =0 present\n",
    "\n",
    "for 2d array axis=0 and axis=1 is present \n",
    "\n",
    "for 3d array axis=2 is present it is last dimension\n"
   ]
  },
  {
   "cell_type": "code",
   "execution_count": null,
   "id": "d54af527",
   "metadata": {},
   "outputs": [],
   "source": [
    "# create 3d array\n",
    "array5=np.array([[[1,2]],[[3,4]]])\n",
    "array6=np.array([[[5,6]],[[7,8]]])"
   ]
  },
  {
   "cell_type": "code",
   "execution_count": null,
   "id": "87cec24e",
   "metadata": {},
   "outputs": [
    {
     "data": {
      "text/plain": [
       "((2, 1, 2), (2, 1, 2))"
      ]
     },
     "execution_count": 26,
     "metadata": {},
     "output_type": "execute_result"
    }
   ],
   "source": [
    "np.shape(array5),np.shape(array6)"
   ]
  },
  {
   "cell_type": "code",
   "execution_count": null,
   "id": "52882aca",
   "metadata": {},
   "outputs": [
    {
     "data": {
      "text/plain": [
       "(4, 1, 2)"
      ]
     },
     "execution_count": 29,
     "metadata": {},
     "output_type": "execute_result"
    }
   ],
   "source": [
    "np.concatenate((array5,array6)).shape"
   ]
  },
  {
   "cell_type": "markdown",
   "id": "ea8f30a9",
   "metadata": {},
   "source": [
    "(2,1,2) and (2,1,2) is shape of array6 and array7 then concatenation result along axis=0 is firstdimension of array5 + firstdimension of array6=(4,1,2) "
   ]
  },
  {
   "cell_type": "code",
   "execution_count": null,
   "id": "0c233097",
   "metadata": {},
   "outputs": [
    {
     "data": {
      "text/plain": [
       "array([[[1, 2],\n",
       "        [5, 6]],\n",
       "\n",
       "       [[3, 4],\n",
       "        [7, 8]]])"
      ]
     },
     "execution_count": 30,
     "metadata": {},
     "output_type": "execute_result"
    }
   ],
   "source": [
    "np.concatenate((array5,array6),axis=1)"
   ]
  },
  {
   "cell_type": "code",
   "execution_count": null,
   "id": "d8f44bbd",
   "metadata": {},
   "outputs": [
    {
     "data": {
      "text/plain": [
       "(2, 2, 2)"
      ]
     },
     "execution_count": 31,
     "metadata": {},
     "output_type": "execute_result"
    }
   ],
   "source": [
    "np.concatenate((array5,array6),axis=1).shape"
   ]
  },
  {
   "cell_type": "markdown",
   "id": "c38c43de",
   "metadata": {},
   "source": [
    "(2,1,2) and (2,1,2) are shapes of array5 and array 6 concatenation along axis=1 is secondhighest dimension of array5+secondhighestdimension of array6 =1+1=2 shape is 2,2,2 "
   ]
  },
  {
   "cell_type": "code",
   "execution_count": null,
   "id": "a2f02682",
   "metadata": {},
   "outputs": [
    {
     "data": {
      "text/plain": [
       "array([[[1, 2, 5, 6]],\n",
       "\n",
       "       [[3, 4, 7, 8]]])"
      ]
     },
     "execution_count": 35,
     "metadata": {},
     "output_type": "execute_result"
    }
   ],
   "source": [
    "\n",
    "\n",
    "\n",
    "np.concatenate((array5,array6),axis=2)"
   ]
  },
  {
   "cell_type": "markdown",
   "id": "59696272",
   "metadata": {},
   "source": [
    "concatenation along axis=2 is \n",
    "\n",
    "[row 0 of array5 ,row 0 of array6] # row0\n",
    "\n",
    "[row 1 of array5 ,row  1 of array6] # row1      \n",
    "\n",
    "[row  2 of array5 ,column 2 of array6] # row2 like wise axis=2 work\n"
   ]
  },
  {
   "cell_type": "code",
   "execution_count": null,
   "id": "958fd12a",
   "metadata": {},
   "outputs": [
    {
     "data": {
      "text/plain": [
       "(2, 1, 4)"
      ]
     },
     "execution_count": 40,
     "metadata": {},
     "output_type": "execute_result"
    }
   ],
   "source": [
    "np.concatenate((array5,array6),axis=2).shape"
   ]
  },
  {
   "cell_type": "markdown",
   "id": "3f667ac4",
   "metadata": {},
   "source": [
    "shape of array5 and array 6 is (2,1,2) concatenate along axis=2 is sumof last dimension of arrays is 2+2 is=4 remaining doesnot change then shape becomes (2,1,4)"
   ]
  },
  {
   "cell_type": "code",
   "execution_count": null,
   "id": "62b15392",
   "metadata": {},
   "outputs": [
    {
     "data": {
      "text/plain": [
       "array([[[1, 2, 5, 6]],\n",
       "\n",
       "       [[3, 4, 7, 8]]])"
      ]
     },
     "execution_count": 49,
     "metadata": {},
     "output_type": "execute_result"
    }
   ],
   "source": [
    "\n",
    "\n",
    "\n",
    "np.concatenate((array5,array6),axis=-1)"
   ]
  },
  {
   "cell_type": "markdown",
   "id": "e03ae509",
   "metadata": {},
   "source": [
    "axis=-1 means last dimension of arrays which is axis=2 for 3d arrays and for 2d arrays axis=1"
   ]
  },
  {
   "cell_type": "code",
   "execution_count": null,
   "id": "9329d8cf",
   "metadata": {},
   "outputs": [],
   "source": []
  }
 ],
 "metadata": {
  "kernelspec": {
   "display_name": "base",
   "language": "python",
   "name": "python3"
  },
  "language_info": {
   "codemirror_mode": {
    "name": "ipython",
    "version": 3
   },
   "file_extension": ".py",
   "mimetype": "text/x-python",
   "name": "python",
   "nbconvert_exporter": "python",
   "pygments_lexer": "ipython3",
   "version": "3.13.5"
  }
 },
 "nbformat": 4,
 "nbformat_minor": 5
}
