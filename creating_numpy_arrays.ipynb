{
 "cells": [
  {
   "cell_type": "markdown",
   "id": "7d3e680f",
   "metadata": {},
   "source": [
    "# Creating Numpy arrays\n"
   ]
  },
  {
   "cell_type": "code",
   "execution_count": 1,
   "id": "3b3badc3",
   "metadata": {},
   "outputs": [],
   "source": [
    "import numpy as np "
   ]
  },
  {
   "cell_type": "code",
   "execution_count": 2,
   "id": "1b2e0afe",
   "metadata": {},
   "outputs": [],
   "source": [
    "arr1=np.array([1,2,3,4,5])"
   ]
  },
  {
   "cell_type": "markdown",
   "id": "d0081cbf",
   "metadata": {},
   "source": [
    "Using np.array function  we create numpy arrays .which are 100 times faster than normal python lists"
   ]
  },
  {
   "cell_type": "code",
   "execution_count": 3,
   "id": "54018644",
   "metadata": {},
   "outputs": [
    {
     "data": {
      "text/plain": [
       "array([1, 2, 3, 4, 5])"
      ]
     },
     "execution_count": 3,
     "metadata": {},
     "output_type": "execute_result"
    }
   ],
   "source": [
    "arr1"
   ]
  },
  {
   "cell_type": "code",
   "execution_count": null,
   "metadata": {},
   "outputs": [
    {
     "data": {
      "text/plain": [
       "numpy.ndarray"
      ]
     },
     "execution_count": 4,
     "metadata": {},
     "output_type": "execute_result"
    }
   ],
   "source": [
    "type(arr1) #ndarray means n dimensional array "
   ]
  },
  {
   "cell_type": "code",
   "execution_count": null,
   "id": "78c1f857",
   "metadata": {},
   "outputs": [
    {
     "data": {
      "text/plain": [
       "dtype('int64')"
      ]
     },
     "execution_count": 6,
     "metadata": {},
     "output_type": "execute_result"
    }
   ],
   "source": [
    "arr1.dtype # it shows the datatype of each data item "
   ]
  },
  {
   "cell_type": "code",
   "execution_count": null,
   "id": "f618cc1f",
   "metadata": {},
   "outputs": [
    {
     "data": {
      "text/plain": [
       "8"
      ]
     },
     "execution_count": 7,
     "metadata": {},
     "output_type": "execute_result"
    }
   ],
   "source": [
    "arr1.itemsize # it shows the itemsize means the memory size of each numpy array item "
   ]
  },
  {
   "cell_type": "code",
   "execution_count": null,
   "id": "82935856",
   "metadata": {},
   "outputs": [],
   "source": []
  }
 ],
 "metadata": {
  "kernelspec": {
   "display_name": "base",
   "language": "python",
   "name": "python3"
  },
  "language_info": {
   "codemirror_mode": {
    "name": "ipython",
    "version": 3
   },
   "file_extension": ".py",
   "mimetype": "text/x-python",
   "name": "python",
   "nbconvert_exporter": "python",
   "pygments_lexer": "ipython3",
   "version": "3.13.5"
  }
 },
 "nbformat": 4,
 "nbformat_minor": 5
}
